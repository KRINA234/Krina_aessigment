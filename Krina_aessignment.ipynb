{
 "cells": [
  {
   "cell_type": "code",
   "execution_count": 6,
   "id": "c39598d9",
   "metadata": {},
   "outputs": [
    {
     "name": "stdout",
     "output_type": "stream",
     "text": [
      "9\n",
      "sum= 45\n"
     ]
    }
   ],
   "source": [
    "#1.Write a python program to sum of the first n positive integers.\n",
    "num = int(input())\n",
    "k = 0\n",
    "for i in range(1,num+1):\n",
    "    k += i\n",
    "print('sum=',k)\n"
   ]
  },
  {
   "cell_type": "code",
   "execution_count": 7,
   "id": "d87a7c10",
   "metadata": {},
   "outputs": [
    {
     "data": {
      "text/plain": [
       "2"
      ]
     },
     "execution_count": 7,
     "metadata": {},
     "output_type": "execute_result"
    }
   ],
   "source": [
    "#2.Write a Python program to count occurrences of a substring in a string.\n",
    "str2='A game is a structured form of play, usually undertaken for entertainment or fun, and sometimes used as an educational tool'\n",
    "str2.count('an')\n"
   ]
  },
  {
   "cell_type": "code",
   "execution_count": 9,
   "id": "048dfb9a",
   "metadata": {},
   "outputs": [
    {
     "name": "stdout",
     "output_type": "stream",
     "text": [
      "enter the string=my name is krina\n"
     ]
    },
    {
     "data": {
      "text/plain": [
       "4"
      ]
     },
     "execution_count": 9,
     "metadata": {},
     "output_type": "execute_result"
    }
   ],
   "source": [
    "#3.Write a Python program to count the occurrences of each word in a given\n",
    "#sentence.\n",
    "a = input('enter the string=')\n",
    "b =a.split()\n",
    "len(b)\n"
   ]
  },
  {
   "cell_type": "code",
   "execution_count": 10,
   "id": "3bc8a448",
   "metadata": {},
   "outputs": [
    {
     "name": "stdout",
     "output_type": "stream",
     "text": [
      "hading\n",
      "happy\n",
      "hading happy\n"
     ]
    }
   ],
   "source": [
    "#4.Write a Python program to get a single string from two given strings,\n",
    "#separated by a space and swap the first two characters of each string.\n",
    "str60 = 'happy'\n",
    "str50 = 'ending'\n",
    "str40 = str60[0:2]+str50[2:]\n",
    "print(str40)\n",
    "str30 = str40[0:2] +str60[2:]\n",
    "print(str30)\n",
    "str20 = str40 +' '+ str30\n",
    "print(str20)\n",
    "\n"
   ]
  },
  {
   "cell_type": "code",
   "execution_count": 11,
   "id": "80d87be9",
   "metadata": {},
   "outputs": [
    {
     "name": "stdout",
     "output_type": "stream",
     "text": [
      "think\n",
      "thinking\n"
     ]
    }
   ],
   "source": [
    "#5.Write a Python program to add 'ing' at the end of a given string \n",
    "#(length should be at least 3). If the given string already ends with\n",
    "#'ing' then add 'ly' instead If the string length of the given \n",
    "#string is less than 3, leave it unchanged\n",
    "A = input()\n",
    "if len(A) >= 3:\n",
    "    if A.endswith('ing'):\n",
    "        print(A.replace('ing' , 'ly'))\n",
    "    else:\n",
    "        print(A + 'ing')\n",
    "else:\n",
    "    print(A)"
   ]
  },
  {
   "cell_type": "code",
   "execution_count": 12,
   "id": "94950391",
   "metadata": {},
   "outputs": [
    {
     "name": "stdout",
     "output_type": "stream",
     "text": [
      "5\n",
      "9\n",
      "I am good girl.\n"
     ]
    }
   ],
   "source": [
    "#6.Write a Python program to find the first appearance of the substring \n",
    "#'not' and 'poor' from a given string, if 'not' follows the 'poor', \n",
    "#replace the whole 'not'...'poor' substring with 'good'. \n",
    "#Return the resulting string\n",
    "str5 = 'I am not poor girl.'\n",
    "k = str5.find('not')\n",
    "print(k)\n",
    "j = str5.find('poor')\n",
    "print(j)\n",
    "l = str5.replace('not poor' , 'good')\n",
    "print(l)"
   ]
  },
  {
   "cell_type": "code",
   "execution_count": 13,
   "id": "9f554856",
   "metadata": {},
   "outputs": [
    {
     "name": "stdout",
     "output_type": "stream",
     "text": [
      "gcd of 36 and 60 is 12\n"
     ]
    }
   ],
   "source": [
    "#7.Program to find Greatest Common Divisor of two numbers.\n",
    "#For example, the GCD of 20 and 28 is 4 and GCD of 98 and 56 isA\n",
    "N1 = 36\n",
    "N2 = 60\n",
    "A = N1\n",
    "B = N2\n",
    "while N1 != N2:\n",
    "    if N1 > N2:\n",
    "        N1 -= N2\n",
    "    else:\n",
    "        N2 -= N1\n",
    "        \n",
    "print(\"gcd of\",A,\"and\",B,\"is\",N1)"
   ]
  },
  {
   "cell_type": "code",
   "execution_count": 14,
   "id": "33c66ef3",
   "metadata": {},
   "outputs": [
    {
     "name": "stdout",
     "output_type": "stream",
     "text": [
      "list is present\n"
     ]
    }
   ],
   "source": [
    "#8.Write a Python program to check whether a list contains a sublist.\n",
    "list70 = [[1,2,3],[60,90,30],[9,8,34]]\n",
    "sublist = [1,2,3]\n",
    "if sublist in list70:\n",
    "    print('list is present')\n",
    "else:\n",
    "    print('list is not present')\n"
   ]
  },
  {
   "cell_type": "code",
   "execution_count": 15,
   "id": "aa88817c",
   "metadata": {},
   "outputs": [
    {
     "name": "stdout",
     "output_type": "stream",
     "text": [
      "second smallest number= 30\n"
     ]
    }
   ],
   "source": [
    "#9.Write a Python program to find the second smallest number in a list.\n",
    "b = [48,66,78,90,23,30]\n",
    "b.sort()\n",
    "a =b[1]\n",
    "print('second smallest number=',a)"
   ]
  },
  {
   "cell_type": "code",
   "execution_count": 16,
   "id": "efd8050e",
   "metadata": {},
   "outputs": [
    {
     "data": {
      "text/plain": [
       "[3, 11, 43, 23, 56, 89, 90]"
      ]
     },
     "execution_count": 16,
     "metadata": {},
     "output_type": "execute_result"
    }
   ],
   "source": [
    "#10.Write a Python program to get unique values from a list.\n",
    "list56 = [11,3,56,89,90,11,11,23,43,23]\n",
    "l98 = set(list56)\n",
    "list(l98)\n"
   ]
  },
  {
   "cell_type": "code",
   "execution_count": 17,
   "id": "affff2e4",
   "metadata": {},
   "outputs": [
    {
     "name": "stdout",
     "output_type": "stream",
     "text": [
      "[(1, 3, 8), (2, 4, 9)]\n"
     ]
    }
   ],
   "source": [
    "#11.Write a Python program to unzip a list of tuples into individual lists.\n",
    "\n",
    "l1= [(1,2), (3,4), (8,9)]\n",
    "print(list(zip(*l1)))"
   ]
  },
  {
   "cell_type": "code",
   "execution_count": 18,
   "id": "bc3eff59",
   "metadata": {},
   "outputs": [
    {
     "data": {
      "text/plain": [
       "{3: 4, 'krina': 'patel', 78: 90}"
      ]
     },
     "execution_count": 18,
     "metadata": {},
     "output_type": "execute_result"
    }
   ],
   "source": [
    "#12.Write a Python program to convert a list of tuples into a dictionary\n",
    "m = [(3,4),('krina','patel'),(78,90)]\n",
    "dict(m)"
   ]
  },
  {
   "cell_type": "code",
   "execution_count": 19,
   "id": "d962f2bd",
   "metadata": {},
   "outputs": [
    {
     "name": "stdout",
     "output_type": "stream",
     "text": [
      "descending= {89: 70, 56: 45, 6: 7, 1: 3}\n",
      "ascending= {1: 3, 6: 7, 56: 45, 89: 70}\n"
     ]
    }
   ],
   "source": [
    "#13.Write a Python program to sort a dictionary (ascending /descending) by \n",
    "#value.\n",
    "dict1 = {1:3,6:7,89:70,56:45}\n",
    "dict3 =dict2 =list(dict1.items())\n",
    "\n",
    "dict2.sort(reverse=True)\n",
    "print('descending=',dict(dict2))\n",
    "dict3.sort()\n",
    "print('ascending=',dict(dict3))\n"
   ]
  },
  {
   "cell_type": "code",
   "execution_count": 20,
   "id": "7f253f82",
   "metadata": {},
   "outputs": [
    {
     "name": "stdout",
     "output_type": "stream",
     "text": [
      "Dictionary with 3 highest values:\n",
      "Keys: Values\n",
      "[69, 67, 56]\n"
     ]
    }
   ],
   "source": [
    "#14.Write a Python program to find the highest 3 values in a dictionary.\n",
    "my_dict = {'A': 67, 'B': 23,\n",
    "        'D': 56, 'F': 69}\n",
    " \n",
    "print(\"Dictionary with 3 highest values:\")\n",
    "print(\"Keys: Values\")\n",
    " \n",
    "dict1 = list(my_dict.values())\n",
    "dict1.sort(reverse = True)\n",
    "dict1.pop()\n",
    "print(dict1)"
   ]
  },
  {
   "cell_type": "code",
   "execution_count": 21,
   "id": "6db056e0",
   "metadata": {},
   "outputs": [
    {
     "name": "stdout",
     "output_type": "stream",
     "text": [
      "8\n",
      "0 1 1 2 3 5 8 13 "
     ]
    }
   ],
   "source": [
    "#15. Given a number n, write a python program to make and print the list \n",
    "#of Fibonacci series up to n.\n",
    "#Input : n=8\n",
    "#Hint : first 8 numbers in the series\n",
    "#Expected output : \n",
    "#First few Fibonacci numbers are 0, 1, 1, 2, 3, 5, 8, 13\n",
    "k = int(input())\n",
    "v1 = 0\n",
    "v2 = 1\n",
    "for i in range(k):\n",
    "    print(v1,end=' ')\n",
    "    v1,v2 = v2,v1+v2"
   ]
  },
  {
   "cell_type": "code",
   "execution_count": 22,
   "id": "87be83b3",
   "metadata": {},
   "outputs": [
    {
     "name": "stdout",
     "output_type": "stream",
     "text": [
      "{1: 5, 5: 2, 3: 3, 4: 3, 2: 4}\n"
     ]
    }
   ],
   "source": [
    "#16. Counting the frequencies in a list using a dictionary in Python.\n",
    "#Input : [1, 1, 1, 5, 5, 3, 1, 3, 3, 1,4, 4, 4, 2, 2, 2, 2]\n",
    "#Expected output : 1 : 5 , 2 : 4 , 3 : 3 , 4 : 3 , 5 : 2\n",
    "list5 =  [1, 1, 1, 5, 5, 3, 1, 3, 3, 1, 4, 4, 4, 2, 2, 2, 2]\n",
    "dict5 = {}\n",
    "for i in list5:\n",
    "    if i in dict5:\n",
    "        dict5[i] += 1\n",
    "    else:\n",
    "        dict5[i] = 1\n",
    "print(dict5)"
   ]
  },
  {
   "cell_type": "code",
   "execution_count": 23,
   "id": "e217a25d",
   "metadata": {},
   "outputs": [
    {
     "data": {
      "text/plain": [
       "720"
      ]
     },
     "execution_count": 23,
     "metadata": {},
     "output_type": "execute_result"
    }
   ],
   "source": [
    "#17. Python Program to Find Factorial of Number Using Recursion\n",
    "def fun3(n):\n",
    "    if n == 1:\n",
    "        return 1\n",
    "    else:\n",
    "        return n *fun3(n-1)\n",
    "fun3(6)"
   ]
  },
  {
   "cell_type": "code",
   "execution_count": 24,
   "id": "7c71630c",
   "metadata": {},
   "outputs": [
    {
     "name": "stdout",
     "output_type": "stream",
     "text": [
      "[1, 2, 3, 4, 5]\n"
     ]
    }
   ],
   "source": [
    "#18. Write a Python function that takes a list and returns a new list \n",
    "#with unique elements of the first list.\n",
    "def unique_list(list6):\n",
    "  list3 = []\n",
    "  for a in list6:\n",
    "    if a not in list3:\n",
    "      list3.append(a)\n",
    "  return list3\n",
    "\n",
    "print(unique_list([1,2,3,3,3,3,4,5])) "
   ]
  }
 ],
 "metadata": {
  "kernelspec": {
   "display_name": "Python 3 (ipykernel)",
   "language": "python",
   "name": "python3"
  },
  "language_info": {
   "codemirror_mode": {
    "name": "ipython",
    "version": 3
   },
   "file_extension": ".py",
   "mimetype": "text/x-python",
   "name": "python",
   "nbconvert_exporter": "python",
   "pygments_lexer": "ipython3",
   "version": "3.9.13"
  }
 },
 "nbformat": 4,
 "nbformat_minor": 5
}
