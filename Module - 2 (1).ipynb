{
 "cells": [
  {
   "cell_type": "code",
   "execution_count": 1,
   "id": "f66672ef",
   "metadata": {},
   "outputs": [
    {
     "name": "stdout",
     "output_type": "stream",
     "text": [
      "0\n",
      "zero\n"
     ]
    }
   ],
   "source": [
    "#Write a Python program to check if a number is positive, negative or zero.\n",
    "\n",
    "\n",
    "k = int(input())\n",
    "if k > 0:\n",
    "    print('positive')\n",
    "elif k < 0:\n",
    "    print('negative')\n",
    "else:\n",
    "    print('zero')\n",
    "    "
   ]
  },
  {
   "cell_type": "code",
   "execution_count": null,
   "id": "0a7c3ce4",
   "metadata": {},
   "outputs": [],
   "source": []
  },
  {
   "cell_type": "code",
   "execution_count": null,
   "id": "dbed597d",
   "metadata": {},
   "outputs": [],
   "source": []
  },
  {
   "cell_type": "code",
   "execution_count": null,
   "id": "b5c7afa0",
   "metadata": {},
   "outputs": [],
   "source": [
    "#How memory is managed in Python?\n",
    "#==> memory in python is managed dynamically with private heap space.\n"
   ]
  },
  {
   "cell_type": "code",
   "execution_count": null,
   "id": "859a6724",
   "metadata": {},
   "outputs": [],
   "source": [
    "#What is the purpose continue statement in python?\n",
    "#continue statement is a part of control statement.continue keyword ends \n",
    "#the current itreration and starts the new iteration in loops."
   ]
  },
  {
   "cell_type": "code",
   "execution_count": 2,
   "id": "c4b7e8e0",
   "metadata": {},
   "outputs": [
    {
     "name": "stdout",
     "output_type": "stream",
     "text": [
      "10\n",
      "20\n",
      "var1 20\n",
      "var2 10\n"
     ]
    }
   ],
   "source": [
    "#Write python program that swap two number with temp variable and\n",
    "#without temp variable\n",
    "var1 = int(input())\n",
    "var2 = int(input())\n",
    "var1,var2=var2,var1\n",
    "print('var1',var1)\n",
    "print('var2',var2)"
   ]
  },
  {
   "cell_type": "code",
   "execution_count": 3,
   "id": "f2237384",
   "metadata": {},
   "outputs": [
    {
     "name": "stdout",
     "output_type": "stream",
     "text": [
      "8\n",
      "even number\n"
     ]
    }
   ],
   "source": [
    "#Write a Python program to find whether a given number is even or odd,\n",
    "#print out an appropriate message to the user.\n",
    "num = int(input())\n",
    "if num%2 == 0:\n",
    "    print('even number')\n",
    "else:\n",
    "    print('odd number')"
   ]
  },
  {
   "cell_type": "code",
   "execution_count": 4,
   "id": "d9ba877e",
   "metadata": {},
   "outputs": [
    {
     "name": "stdout",
     "output_type": "stream",
     "text": [
      "k\n",
      "constant\n"
     ]
    }
   ],
   "source": [
    "#Write a Python program to test whether a passed letter is a vowel or not.\n",
    "var1 = input()\n",
    "if var1 in ('A','E','I','O','U'):\n",
    "    print('vowel')\n",
    "else:\n",
    "    print('constant')"
   ]
  },
  {
   "cell_type": "code",
   "execution_count": null,
   "id": "2351ab4e",
   "metadata": {},
   "outputs": [],
   "source": []
  },
  {
   "cell_type": "code",
   "execution_count": 5,
   "id": "a2272ee3",
   "metadata": {},
   "outputs": [
    {
     "name": "stdout",
     "output_type": "stream",
     "text": [
      "8\n",
      "3\n",
      "true\n"
     ]
    }
   ],
   "source": [
    "#Write a Python program that will return true ifthe two given integervalues\n",
    "#are equal or their sum or difference is 5.\n",
    "\n",
    "x = int(input())\n",
    "y = int(input())\n",
    "a=x+y\n",
    "b=x-y\n",
    "if x==y or a==5 or b==5:\n",
    "    print('true')\n",
    "else:\n",
    "    print('false')"
   ]
  },
  {
   "cell_type": "code",
   "execution_count": 6,
   "id": "ae956e17",
   "metadata": {},
   "outputs": [
    {
     "name": "stdout",
     "output_type": "stream",
     "text": [
      "5\n",
      "15\n"
     ]
    }
   ],
   "source": [
    "#Write a python program to sum of the first n positive integers\n",
    "n = int(input())\n",
    "a=n+1\n",
    "b=(a/2)\n",
    "c= b * n\n",
    "d=int(c)\n",
    "print(d)"
   ]
  },
  {
   "cell_type": "code",
   "execution_count": 7,
   "id": "949e3b8c",
   "metadata": {},
   "outputs": [
    {
     "name": "stdout",
     "output_type": "stream",
     "text": [
      "krina\n",
      "5\n"
     ]
    }
   ],
   "source": [
    "#Write a Python program to calculate the length of a string.\n",
    "\n",
    "var1 = input()\n",
    "print(len(var1))\n"
   ]
  },
  {
   "cell_type": "code",
   "execution_count": 8,
   "id": "925cda97",
   "metadata": {},
   "outputs": [
    {
     "data": {
      "text/plain": [
       "4"
      ]
     },
     "execution_count": 8,
     "metadata": {},
     "output_type": "execute_result"
    }
   ],
   "source": [
    "#Write a Python program to count the number of characters (character\n",
    "#frequency) in a string\n",
    "\n",
    "str1='Python is a popular programming language'\n",
    "str1.count('g')\n",
    "        "
   ]
  },
  {
   "cell_type": "code",
   "execution_count": null,
   "id": "f6991c83",
   "metadata": {},
   "outputs": [],
   "source": [
    "#What are negative indexes and why are they used?\n",
    "\n",
    "#==>Negative Indexing is used to in Python to begin slicing from the\n",
    "#end of the string."
   ]
  },
  {
   "cell_type": "code",
   "execution_count": 9,
   "id": "1ab1d295",
   "metadata": {},
   "outputs": [
    {
     "data": {
      "text/plain": [
       "2"
      ]
     },
     "execution_count": 9,
     "metadata": {},
     "output_type": "execute_result"
    }
   ],
   "source": [
    "#Write a Python program to count occurrences of a substring in a string.\n",
    "\n",
    "str2='A game is a structured form of play, usually undertaken for entertainment or fun, and sometimes used as an educational tool'\n",
    "str2.count('an')"
   ]
  },
  {
   "cell_type": "code",
   "execution_count": null,
   "id": "d0344261",
   "metadata": {},
   "outputs": [],
   "source": [
    "#ans=16\n",
    "a = 'money'\n",
    "b = 'heist'\n",
    "\n",
    "\n"
   ]
  },
  {
   "cell_type": "code",
   "execution_count": 3,
   "id": "b1459eeb",
   "metadata": {},
   "outputs": [
    {
     "name": "stdout",
     "output_type": "stream",
     "text": [
      "thinking\n",
      "thinkly\n"
     ]
    }
   ],
   "source": [
    "#Write a Python program to add 'ing' at the end of a given string (length\n",
    "#should be at least 3). If the given string already ends with 'ing' then add 'ly'\n",
    "#insteadif the string length of the given string is less than 3, leave it\n",
    "#unchanged.\n",
    "\n",
    "\n",
    "A = input()\n",
    "if len(A) >= 3:\n",
    "    if A.endswith('ing'):\n",
    "        print(A.replace('ing' , 'ly'))\n",
    "    else:\n",
    "        print(A + 'ing')\n",
    "else:\n",
    "    print(A)"
   ]
  },
  {
   "cell_type": "code",
   "execution_count": 4,
   "id": "fe65f3b2",
   "metadata": {},
   "outputs": [
    {
     "name": "stdout",
     "output_type": "stream",
     "text": [
      "5\n",
      "9\n",
      "I am good girl.\n"
     ]
    }
   ],
   "source": [
    "#Write a Python program to find the first appearance of the substring 'not'\n",
    "#and 'poor' froma given string, if 'not' follows the 'poor', replace the whole\n",
    "#'not'...'poor'substring with 'good'. Return the resulting string\n",
    "str5 = 'I am not poor girl.'\n",
    "k = str5.find('not')\n",
    "print(k)\n",
    "j = str5.find('poor')\n",
    "print(j)\n",
    "l = str5.replace('not poor' , 'good')\n",
    "print(l)"
   ]
  }
 ],
 "metadata": {
  "kernelspec": {
   "display_name": "Python 3 (ipykernel)",
   "language": "python",
   "name": "python3"
  },
  "language_info": {
   "codemirror_mode": {
    "name": "ipython",
    "version": 3
   },
   "file_extension": ".py",
   "mimetype": "text/x-python",
   "name": "python",
   "nbconvert_exporter": "python",
   "pygments_lexer": "ipython3",
   "version": "3.9.13"
  }
 },
 "nbformat": 4,
 "nbformat_minor": 5
}
