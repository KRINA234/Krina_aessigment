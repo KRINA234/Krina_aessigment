{
 "cells": [
  {
   "cell_type": "code",
   "execution_count": 16,
   "id": "f66672ef",
   "metadata": {},
   "outputs": [
    {
     "name": "stdout",
     "output_type": "stream",
     "text": [
      "5\n",
      "positive\n"
     ]
    }
   ],
   "source": [
    "#ans=1\n",
    "k = int(input())\n",
    "if k > 0:\n",
    "    print('positive')\n",
    "elif k < 0:\n",
    "    print('negative')\n",
    "else:\n",
    "    print('zero')\n",
    "    "
   ]
  },
  {
   "cell_type": "code",
   "execution_count": null,
   "id": "0a7c3ce4",
   "metadata": {},
   "outputs": [],
   "source": [
    "#ans=2"
   ]
  },
  {
   "cell_type": "code",
   "execution_count": null,
   "id": "dbed597d",
   "metadata": {},
   "outputs": [],
   "source": [
    "#ans=3"
   ]
  },
  {
   "cell_type": "code",
   "execution_count": 4,
   "id": "b5c7afa0",
   "metadata": {},
   "outputs": [],
   "source": [
    "#ans=4\n"
   ]
  },
  {
   "cell_type": "code",
   "execution_count": 17,
   "id": "c4b7e8e0",
   "metadata": {},
   "outputs": [
    {
     "name": "stdout",
     "output_type": "stream",
     "text": [
      "10\n",
      "20\n",
      "var1 20\n",
      "var2 10\n"
     ]
    }
   ],
   "source": [
    "#ans=5\n",
    "var1 = int(input())\n",
    "var2 = int(input())\n",
    "var1,var2=var2,var1\n",
    "print('var1',var1)\n",
    "print('var2',var2)"
   ]
  },
  {
   "cell_type": "code",
   "execution_count": 22,
   "id": "f2237384",
   "metadata": {},
   "outputs": [
    {
     "name": "stdout",
     "output_type": "stream",
     "text": [
      "2\n",
      "even number\n"
     ]
    }
   ],
   "source": [
    "#ans=6\n",
    "num = int(input())\n",
    "if num%2 == 0:\n",
    "    print('even number')\n",
    "else:\n",
    "    print('odd number')"
   ]
  },
  {
   "cell_type": "code",
   "execution_count": 23,
   "id": "d9ba877e",
   "metadata": {},
   "outputs": [
    {
     "name": "stdout",
     "output_type": "stream",
     "text": [
      "A\n",
      "vowel\n"
     ]
    }
   ],
   "source": [
    "#ans=7\n",
    "var1 = input()\n",
    "if var1 in ('A','E','I','O','U'):\n",
    "    print('vowel')\n",
    "else:\n",
    "    print('constant')"
   ]
  },
  {
   "cell_type": "code",
   "execution_count": null,
   "id": "2351ab4e",
   "metadata": {},
   "outputs": [],
   "source": [
    "#ans=8"
   ]
  },
  {
   "cell_type": "code",
   "execution_count": 24,
   "id": "a2272ee3",
   "metadata": {},
   "outputs": [
    {
     "name": "stdout",
     "output_type": "stream",
     "text": [
      "2\n",
      "3\n",
      "true\n"
     ]
    }
   ],
   "source": [
    "#ans=9\n",
    "x = int(input())\n",
    "y = int(input())\n",
    "a=x+y\n",
    "b=x-y\n",
    "if x==y or a==5 or b==5:\n",
    "    print('true')\n",
    "else:\n",
    "    print('false')"
   ]
  },
  {
   "cell_type": "code",
   "execution_count": 13,
   "id": "ae956e17",
   "metadata": {},
   "outputs": [
    {
     "name": "stdout",
     "output_type": "stream",
     "text": [
      "5\n",
      "15\n"
     ]
    }
   ],
   "source": [
    "#ans=10\n",
    "n = int(input())\n",
    "a=n+1\n",
    "b=(a/2)\n",
    "c= b * n\n",
    "d=int(c)\n",
    "print(d)"
   ]
  },
  {
   "cell_type": "code",
   "execution_count": 3,
   "id": "949e3b8c",
   "metadata": {},
   "outputs": [
    {
     "name": "stdout",
     "output_type": "stream",
     "text": [
      "krinapatel\n",
      "10\n"
     ]
    }
   ],
   "source": [
    "#ans=11\n",
    "var1 = input()\n",
    "print(len(var1))\n"
   ]
  }
 ],
 "metadata": {
  "kernelspec": {
   "display_name": "Python 3 (ipykernel)",
   "language": "python",
   "name": "python3"
  },
  "language_info": {
   "codemirror_mode": {
    "name": "ipython",
    "version": 3
   },
   "file_extension": ".py",
   "mimetype": "text/x-python",
   "name": "python",
   "nbconvert_exporter": "python",
   "pygments_lexer": "ipython3",
   "version": "3.9.13"
  }
 },
 "nbformat": 4,
 "nbformat_minor": 5
}
