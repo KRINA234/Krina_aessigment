{
 "cells": [
  {
   "cell_type": "code",
   "execution_count": 4,
   "id": "4d33554f",
   "metadata": {},
   "outputs": [
    {
     "name": "stdout",
     "output_type": "stream",
     "text": [
      "[675, 'patel', 'krina', 2.3, 1]\n"
     ]
    }
   ],
   "source": [
    "#1\n",
    "#What is List? How will you reverse a list?\n",
    "#==>A list is a value that contains multiple values in an ordered sequence.\n",
    "# we can reverse a list by using 'var.reverse()' method of list.\n",
    "#example\n",
    "l = [1,2.3,'krina','patel',675]\n",
    "l.reverse()\n",
    "print(l)"
   ]
  },
  {
   "cell_type": "code",
   "execution_count": 5,
   "id": "ba36d6ad",
   "metadata": {},
   "outputs": [
    {
     "name": "stdout",
     "output_type": "stream",
     "text": [
      "[1, 2.3, 'krina', 'patel']\n"
     ]
    }
   ],
   "source": [
    "#2\n",
    "#How will you remove last object from a list?\n",
    "#==>we can remove last object from a list by using 'var.pop()' method of list.\n",
    "#example\n",
    "l = [1,2.3,'krina','patel',675]\n",
    "l.pop()\n",
    "print(l)\n"
   ]
  },
  {
   "cell_type": "code",
   "execution_count": 6,
   "id": "6148f03c",
   "metadata": {},
   "outputs": [
    {
     "data": {
      "text/plain": [
       "25"
      ]
     },
     "execution_count": 6,
     "metadata": {},
     "output_type": "execute_result"
    }
   ],
   "source": [
    "#3=Suppose list1 is [2, 33, 222, 14, and 25], what is list1 [-1]?\n",
    "\n",
    "list1=[2, 33, 222, 14,  25]\n",
    "list1[-1]"
   ]
  },
  {
   "cell_type": "code",
   "execution_count": 7,
   "id": "e9d2e1a1",
   "metadata": {},
   "outputs": [
    {
     "name": "stdout",
     "output_type": "stream",
     "text": [
      "[1, 2.3, 'krina', 'patel', 675, 'mily']\n",
      "[1, 2.3, 'krina', 'patel', 675, 'm', 'i', 'l', 'y']\n"
     ]
    }
   ],
   "source": [
    "#4=Differentiate between append () and extend () methods?\n",
    "#==>append() adds a single element to the end of the list.\n",
    "#example\n",
    "l = [1,2.3,'krina','patel',675]\n",
    "l.append('mily')\n",
    "\n",
    "\n",
    "\n",
    "#==>extend() can add multiple individual elements to the end of the list.\n",
    "l1 = [1,2.3,'krina','patel',675]\n",
    "l1.extend('mily')\n",
    "\n",
    "\n",
    "print(l)\n",
    "print(l1)"
   ]
  },
  {
   "cell_type": "code",
   "execution_count": 8,
   "id": "63403f79",
   "metadata": {},
   "outputs": [
    {
     "name": "stdout",
     "output_type": "stream",
     "text": [
      "1\n",
      "26\n",
      "76\n",
      "87\n",
      "98\n",
      "max value= 98\n",
      "min value= 1\n"
     ]
    }
   ],
   "source": [
    "#5=Write a Python function to get the largest number,smallest num and sum \n",
    "#of all from a list\n",
    "\n",
    "a = [1,26,98,87,76]\n",
    "a.sort()\n",
    "for i in a:\n",
    "    print(i)\n",
    "print('max value=' , a[-1])\n",
    "print('min value=', a[0])\n",
    "    "
   ]
  },
  {
   "cell_type": "code",
   "execution_count": 9,
   "id": "21068944",
   "metadata": {},
   "outputs": [
    {
     "name": "stdout",
     "output_type": "stream",
     "text": [
      "false\n"
     ]
    }
   ],
   "source": [
    "#6=How will you compare two lists?\n",
    "list5 = [11,3,56,89,90]\n",
    "list6 = [4,45,67,89,55]\n",
    "if list5 == list6:\n",
    "    print('true')\n",
    "else:\n",
    "    print('false')\n",
    "            \n"
   ]
  },
  {
   "cell_type": "code",
   "execution_count": 10,
   "id": "178dc01a",
   "metadata": {},
   "outputs": [
    {
     "name": "stdout",
     "output_type": "stream",
     "text": [
      "kick giig "
     ]
    }
   ],
   "source": [
    "#7=Write a Python program to count the number of strings where the string \n",
    "#length is 2 or more and the first and last character are same from a given \n",
    "#list of strings\n",
    "l1=['krina','kick','keep','giig']\n",
    "for i in l1:\n",
    "    if len(i) >= 2 and i[0] == i[-1]:\n",
    "        print(i,end=' ')\n",
    "        "
   ]
  },
  {
   "cell_type": "code",
   "execution_count": 11,
   "id": "74c87ae4",
   "metadata": {},
   "outputs": [
    {
     "data": {
      "text/plain": [
       "[1, 2, 3, 66, 7, 45, 54]"
      ]
     },
     "execution_count": 11,
     "metadata": {},
     "output_type": "execute_result"
    }
   ],
   "source": [
    "#8=Write a Python program to remove duplicates from a list.\n",
    "list66 = [1,2,3,45,54,66,45,2,7,1]\n",
    "l8 =set(list66)\n",
    "list(l8)\n"
   ]
  },
  {
   "cell_type": "code",
   "execution_count": 14,
   "id": "33bc88b4",
   "metadata": {},
   "outputs": [
    {
     "name": "stdout",
     "output_type": "stream",
     "text": [
      "enter the list.\n",
      "[]\n"
     ]
    }
   ],
   "source": [
    "#9=Write a Python program to check a list is empty or not.\n",
    "list1 = input('enter the list.')\n",
    "list1.split()\n",
    "if len(list1) == 0:\n",
    "    print('[]')\n",
    "else:\n",
    "    print(list1)"
   ]
  },
  {
   "cell_type": "code",
   "execution_count": 15,
   "id": "43233652",
   "metadata": {},
   "outputs": [
    {
     "name": "stdout",
     "output_type": "stream",
     "text": [
      "true\n"
     ]
    }
   ],
   "source": [
    "#10=Write a Python function that takes two lists and returns true if they have \n",
    "#at least one common member.\n",
    "list5 = [11,3,56,89,90]\n",
    "list6 = [4,45,67,89,55]\n",
    "for i in list5:\n",
    "    for j in list6:\n",
    "        if i == j:\n",
    "            print('true')\n",
    "        "
   ]
  },
  {
   "cell_type": "code",
   "execution_count": 16,
   "id": "fb029094",
   "metadata": {},
   "outputs": [
    {
     "name": "stdout",
     "output_type": "stream",
     "text": [
      "[1, 4, 9, 16, 25, 676, 729, 784, 841, 900]\n"
     ]
    }
   ],
   "source": [
    "#11=Write a Python program to generate and print a list of first and last 5 \n",
    "#elements where the values are square of numbers between 1 and 30.\n",
    "lis1 = [1,2,3,4,5,26,27,28,29,30]\n",
    "l6=[]\n",
    "for i in lis1:\n",
    "    for j in lis1:\n",
    "        if i == j:\n",
    "            l6.append(i*j)\n",
    "print(l6)    "
   ]
  },
  {
   "cell_type": "code",
   "execution_count": null,
   "id": "5a5925d1",
   "metadata": {},
   "outputs": [],
   "source": [
    "#12=Write a Python function that takes a list and returns a new list with unique \n",
    "#elements of the first list.\n"
   ]
  },
  {
   "cell_type": "code",
   "execution_count": 17,
   "id": "06a47c18",
   "metadata": {},
   "outputs": [
    {
     "data": {
      "text/plain": [
       "'i am krina patel'"
      ]
     },
     "execution_count": 17,
     "metadata": {},
     "output_type": "execute_result"
    }
   ],
   "source": [
    "#13=Write a Python program to convert a list of characters into a string.\n",
    "l76 = ['i','am','krina','patel']\n",
    "' '.join(l76)"
   ]
  },
  {
   "cell_type": "code",
   "execution_count": null,
   "id": "b9d44e7f",
   "metadata": {},
   "outputs": [],
   "source": [
    "#14=Write a Python program to select an item randomly from a list\n"
   ]
  },
  {
   "cell_type": "code",
   "execution_count": 18,
   "id": "2530ba1d",
   "metadata": {},
   "outputs": [
    {
     "name": "stdout",
     "output_type": "stream",
     "text": [
      "second smallest number= 30\n"
     ]
    }
   ],
   "source": [
    "#15=Write a Python program to find the second smallest number in a list.\n",
    "b = [48,66,78,90,23,30]\n",
    "b.sort()\n",
    "a =b[1]\n",
    "print('second smallest number=',a)\n"
   ]
  },
  {
   "cell_type": "code",
   "execution_count": 19,
   "id": "a07eac2d",
   "metadata": {},
   "outputs": [
    {
     "data": {
      "text/plain": [
       "[3, 11, 43, 23, 56, 89, 90]"
      ]
     },
     "execution_count": 19,
     "metadata": {},
     "output_type": "execute_result"
    }
   ],
   "source": [
    "#16=Write a Python program to get unique values from a list\n",
    "list56 = [11,3,56,89,90,11,11,23,43,23]\n",
    "l98 = set(list56)\n",
    "list(l98)\n"
   ]
  },
  {
   "cell_type": "code",
   "execution_count": 20,
   "id": "137c9832",
   "metadata": {},
   "outputs": [
    {
     "name": "stdout",
     "output_type": "stream",
     "text": [
      "list is present\n"
     ]
    }
   ],
   "source": [
    "#17=Write a Python program to check whether a list contains a sub list\n",
    "list70 = [[1,2,3],[60,90,30],[9,8,34]]\n",
    "sublist = [1,2,3]\n",
    "if sublist in list70:\n",
    "    print('list is present')\n",
    "else:\n",
    "    print('list is not present')\n"
   ]
  },
  {
   "cell_type": "code",
   "execution_count": 21,
   "id": "ffc2b028",
   "metadata": {},
   "outputs": [
    {
     "name": "stdout",
     "output_type": "stream",
     "text": [
      "var1= apple\n",
      "var2= ball\n",
      "var3= cat\n",
      "var4= dog\n"
     ]
    }
   ],
   "source": [
    "#18=Write a Python program to split a list into different variables.\n",
    "A,B,C,D = ['apple', 'ball', 'cat' , 'dog']\n",
    " \n",
    "print('var1=',A)\n",
    "print('var2=',B)\n",
    "print('var3=',C)\n",
    "print('var4=',D)"
   ]
  },
  {
   "cell_type": "code",
   "execution_count": null,
   "id": "3c4f03c3",
   "metadata": {},
   "outputs": [],
   "source": [
    "#19=What is tuple? Difference between list and tuple.\n",
    "#==>tuple                ==>list\n",
    "#-->immutable datatype    -->mutable datatype\n",
    "#-->represent by ()       -->represent by []\n",
    "#-->we can use as keys    -->we can not use as keys\n",
    "#for dictionary           for dictionary\n"
   ]
  },
  {
   "cell_type": "code",
   "execution_count": 22,
   "id": "4edf0ea1",
   "metadata": {},
   "outputs": [
    {
     "name": "stdout",
     "output_type": "stream",
     "text": [
      "('ice-cream', {1, 2, 3}, True, [2, 4.5, 89], 'cake', (3, 'u'), {1: 3, 'you': 90})\n"
     ]
    }
   ],
   "source": [
    "#20=Write a Python program to create a tuple with different data types\n",
    "t1 = ['ice-cream', {1,2,3},True,[2,4.5,89],'cake' ,(3,'u'), {1:3,'you':90}]\n",
    "t2 = tuple(t1)\n",
    "print(t2)"
   ]
  },
  {
   "cell_type": "code",
   "execution_count": 23,
   "id": "d5bf7967",
   "metadata": {},
   "outputs": [
    {
     "name": "stdout",
     "output_type": "stream",
     "text": [
      "(1, 2, 3, 4, 5, 6, 7)\n"
     ]
    }
   ],
   "source": [
    "#21=Write a Python program to create a tuple with numbers.\n",
    "var23 = 1,2,3,4,5,6,7\n",
    "print(var23)\n",
    "\n"
   ]
  },
  {
   "cell_type": "code",
   "execution_count": 24,
   "id": "bfb406bc",
   "metadata": {},
   "outputs": [
    {
     "data": {
      "text/plain": [
       "'krina'"
      ]
     },
     "execution_count": 24,
     "metadata": {},
     "output_type": "execute_result"
    }
   ],
   "source": [
    "#22=Write a Python program to convert a tuple to a string\n",
    "tup32 = ('k','r','i','n','a')\n",
    "''.join(tup32)\n"
   ]
  },
  {
   "cell_type": "code",
   "execution_count": 25,
   "id": "fb0ddbd2",
   "metadata": {},
   "outputs": [
    {
     "name": "stdout",
     "output_type": "stream",
     "text": [
      "True\n"
     ]
    }
   ],
   "source": [
    "#23=Write a Python program to check whether an element exists within a \n",
    "#tuple.\n",
    "t1 = ('ice-cream', {1,2,3},True,[2,4.5,89],'cake' ,(3,'u'), {1:3,'you':90})\n",
    "t4 = ('ice-cream')\n",
    "if t4 in t1:\n",
    "    print('True')\n",
    "else:\n",
    "    print('False')"
   ]
  },
  {
   "cell_type": "code",
   "execution_count": 26,
   "id": "0a4c8981",
   "metadata": {},
   "outputs": [
    {
     "data": {
      "text/plain": [
       "7"
      ]
     },
     "execution_count": 26,
     "metadata": {},
     "output_type": "execute_result"
    }
   ],
   "source": [
    "#24=Write a Python program to find the length of a tuple.\n",
    "t1 = ('ice-cream', {1,2,3},True,[2,4.5,89],'cake' ,(3,'u'), {1:3,'you':90})\n",
    "len(t1)\n"
   ]
  },
  {
   "cell_type": "code",
   "execution_count": 27,
   "id": "1871aee7",
   "metadata": {},
   "outputs": [
    {
     "name": "stdout",
     "output_type": "stream",
     "text": [
      "(11, 23, 'krina')\n"
     ]
    }
   ],
   "source": [
    "#25=Write a Python program to convert a list to a tuple.\n",
    "liss11 = [11,23,'krina']\n",
    "tup1 = tuple(liss11)\n",
    "print(tup1)\n"
   ]
  },
  {
   "cell_type": "code",
   "execution_count": 28,
   "id": "fe8c5e2d",
   "metadata": {},
   "outputs": [
    {
     "name": "stdout",
     "output_type": "stream",
     "text": [
      "(675, 'patel', 'krina', 2.3, 1)\n"
     ]
    }
   ],
   "source": [
    "#26=Write a Python program to reverse a tuple.\n",
    "var2 = [1,2.3,'krina','patel',675]\n",
    "var2.reverse()\n",
    "var3 = tuple(var2)\n",
    "print(var3)\n"
   ]
  },
  {
   "cell_type": "code",
   "execution_count": 29,
   "id": "d9822e8e",
   "metadata": {},
   "outputs": [
    {
     "name": "stdout",
     "output_type": "stream",
     "text": [
      "[1, 2.3, 'krina', 'patel', 'panda']\n"
     ]
    }
   ],
   "source": [
    "#27=Write a Python program to replace last value of tuples in a list.\n",
    "tup40 = (1,2.3,'krina','patel',675)\n",
    "list40 = list(tup40)\n",
    "list40.pop(-1)\n",
    "list40.append('panda')\n",
    "print(list40)\n"
   ]
  },
  {
   "cell_type": "code",
   "execution_count": null,
   "id": "a1524b6d",
   "metadata": {},
   "outputs": [],
   "source": [
    "#28=Write a Python program to find the repeated items of a tuple.\n",
    "\n",
    "        "
   ]
  },
  {
   "cell_type": "code",
   "execution_count": 33,
   "id": "f8acb78d",
   "metadata": {},
   "outputs": [],
   "source": [
    "#29=Write a Python program to remove an empty tuple(s) from a list of tuples.\n"
   ]
  },
  {
   "cell_type": "code",
   "execution_count": null,
   "id": "caacfb0e",
   "metadata": {},
   "outputs": [],
   "source": [
    "#30=Write a Python program to unzip a list of tuples into individual lists."
   ]
  },
  {
   "cell_type": "code",
   "execution_count": 34,
   "id": "379a83d1",
   "metadata": {},
   "outputs": [
    {
     "data": {
      "text/plain": [
       "{3: 4, 'krina': 'patel', 78: 90}"
      ]
     },
     "execution_count": 34,
     "metadata": {},
     "output_type": "execute_result"
    }
   ],
   "source": [
    "#31=Write a Python program to convert a list of tuples into a dictionary.\n",
    "m = [(3,4),('krina','patel'),(78,90)]\n",
    "dict(m)"
   ]
  },
  {
   "cell_type": "code",
   "execution_count": null,
   "id": "a20d8f53",
   "metadata": {},
   "outputs": [],
   "source": [
    "#32=How will you create a dictionary using tuples in python?\n",
    "#==>use the dict() function to convert a tuple to a dictionary.\n",
    "#A key-value pair is contained in each tuple."
   ]
  },
  {
   "cell_type": "code",
   "execution_count": 35,
   "id": "e3a54dbd",
   "metadata": {},
   "outputs": [
    {
     "name": "stdout",
     "output_type": "stream",
     "text": [
      "descending= {89: 70, 56: 45, 6: 7, 1: 3}\n",
      "ascending= {1: 3, 6: 7, 56: 45, 89: 70}\n"
     ]
    }
   ],
   "source": [
    "#33=Write a Python script to sort (ascending and descending) a dictionary by \n",
    "#value.\n",
    "dict1 = {1:3,6:7,89:70,56:45}\n",
    "dict3 =dict2 =list(dict1.items())\n",
    "\n",
    "dict2.sort(reverse=True)\n",
    "print('descending=',dict(dict2))\n",
    "dict3.sort()\n",
    "print('ascending=',dict(dict3))\n"
   ]
  },
  {
   "cell_type": "code",
   "execution_count": 36,
   "id": "2adaac2c",
   "metadata": {},
   "outputs": [
    {
     "data": {
      "text/plain": [
       "{1: 'one', 2: 'two', 'a': 'apple', 'b': 'ball'}"
      ]
     },
     "execution_count": 36,
     "metadata": {},
     "output_type": "execute_result"
    }
   ],
   "source": [
    "#34=Write a Python script to concatenate following dictionaries to create a \n",
    "#new one.\n",
    "d1 = {1:'one',2:'two'}\n",
    "d2 = {'a':'apple', 'b':'ball'}\n",
    "d1.update(d2)\n",
    "d1\n",
    "   "
   ]
  },
  {
   "cell_type": "code",
   "execution_count": 44,
   "id": "7c5e5655",
   "metadata": {},
   "outputs": [
    {
     "name": "stdout",
     "output_type": "stream",
     "text": [
      "enter the key=f\n",
      "True\n"
     ]
    }
   ],
   "source": [
    "#35=Write a Python script to check if a given key already exists in a dictionary.\n",
    "dict67 ={'1':'one','2':'two','a':'apple', 'b':'ball','f':'female','m':'male'}\n",
    "key = input('enter the key=')\n",
    "if key in dict67:\n",
    "    print('True')\n",
    "else:\n",
    "    print('False')"
   ]
  },
  {
   "cell_type": "code",
   "execution_count": null,
   "id": "4b6ae757",
   "metadata": {},
   "outputs": [],
   "source": [
    "#36= How Do You Traverse Through A Dictionary Object In Python?\n"
   ]
  },
  {
   "cell_type": "code",
   "execution_count": 38,
   "id": "64319f43",
   "metadata": {},
   "outputs": [
    {
     "data": {
      "text/plain": [
       "dict_keys([1, 2, 'a', 'b', 'f', 'm'])"
      ]
     },
     "execution_count": 38,
     "metadata": {},
     "output_type": "execute_result"
    }
   ],
   "source": [
    "#37=How Do You Check The Presence Of A Key In A Dictionary?\n",
    "dict67 ={1:'one',2:'two','a':'apple', 'b':'ball','f':'female','m':'male'}\n",
    "dict67.keys()"
   ]
  },
  {
   "cell_type": "code",
   "execution_count": null,
   "id": "5e9405d1",
   "metadata": {},
   "outputs": [],
   "source": [
    "#38=Write a Python script to print a dictionary where the keys are numbers \n",
    "#between 1 and 15.\n",
    "\n"
   ]
  },
  {
   "cell_type": "code",
   "execution_count": null,
   "id": "19051b40",
   "metadata": {},
   "outputs": [],
   "source": [
    "#39=Write a Python program to check multiple keys exists in a dictionary\n",
    "\n"
   ]
  },
  {
   "cell_type": "code",
   "execution_count": 45,
   "id": "616afd3e",
   "metadata": {},
   "outputs": [
    {
     "data": {
      "text/plain": [
       "{1: 'one', 2: 'two', 'a': 'apple', 'b': 'ball'}"
      ]
     },
     "execution_count": 45,
     "metadata": {},
     "output_type": "execute_result"
    }
   ],
   "source": [
    "#40=Write a Python script to merge two Python dictionaries\n",
    "d1 = {1:'one',2:'two'}\n",
    "d2 = {'a':'apple', 'b':'ball'}\n",
    "d1.update(d2)\n",
    "d1"
   ]
  },
  {
   "cell_type": "code",
   "execution_count": null,
   "id": "40dfbb18",
   "metadata": {},
   "outputs": [],
   "source": [
    "#41=Write a Python program to map two lists into a dictionary\n"
   ]
  }
 ],
 "metadata": {
  "kernelspec": {
   "display_name": "Python 3 (ipykernel)",
   "language": "python",
   "name": "python3"
  },
  "language_info": {
   "codemirror_mode": {
    "name": "ipython",
    "version": 3
   },
   "file_extension": ".py",
   "mimetype": "text/x-python",
   "name": "python",
   "nbconvert_exporter": "python",
   "pygments_lexer": "ipython3",
   "version": "3.9.13"
  }
 },
 "nbformat": 4,
 "nbformat_minor": 5
}
