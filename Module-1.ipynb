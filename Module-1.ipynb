{
 "cells": [
  {
   "cell_type": "code",
   "execution_count": null,
   "id": "bb57a817",
   "metadata": {},
   "outputs": [],
   "source": [
    "#ans=1\n",
    "#software is collection of computer programs and related documents that are provide \n",
    "#features,functionalties and performance.\n"
   ]
  },
  {
   "cell_type": "code",
   "execution_count": null,
   "id": "c217d206",
   "metadata": {},
   "outputs": [],
   "source": [
    "#ans=2\n",
    "#types of application\n",
    "#1.web application\n",
    "#2.mobile application\n",
    "#3.desktop application\n"
   ]
  },
  {
   "cell_type": "code",
   "execution_count": null,
   "id": "62e444ef",
   "metadata": {},
   "outputs": [],
   "source": [
    "#ans=3\n",
    "#programming is the process of performing a particular task,calculation and\n",
    "#building an executable computer program."
   ]
  },
  {
   "cell_type": "code",
   "execution_count": null,
   "id": "1693ae5c",
   "metadata": {},
   "outputs": [],
   "source": [
    "#ans=4\n",
    "#python is a programming language. it is designed by guido van rossum."
   ]
  }
 ],
 "metadata": {
  "kernelspec": {
   "display_name": "Python 3 (ipykernel)",
   "language": "python",
   "name": "python3"
  },
  "language_info": {
   "codemirror_mode": {
    "name": "ipython",
    "version": 3
   },
   "file_extension": ".py",
   "mimetype": "text/x-python",
   "name": "python",
   "nbconvert_exporter": "python",
   "pygments_lexer": "ipython3",
   "version": "3.9.13"
  }
 },
 "nbformat": 4,
 "nbformat_minor": 5
}
